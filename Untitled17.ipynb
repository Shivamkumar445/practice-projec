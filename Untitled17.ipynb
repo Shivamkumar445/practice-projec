{
 "cells": [
  {
   "cell_type": "markdown",
   "id": "efc3ef19",
   "metadata": {},
   "source": [
    "BANK MARKETING: Predicting Whether The Customer Will Subscribe To Term Deposit (FIXED DEPOSIT) or not.\n",
    "Business Use Case\n",
    "There has been a revenue decline for a Portuguese bank and they would like to know what actions to take. After investigation, they found out that the root cause is that their clients are not depositing as frequently as before. Knowing that term deposits allow banks to hold onto a deposit for a specific amount of time, so banks can invest in higher gain financial products to make a profit. In addition, banks also hold better chance to persuade term deposit clients into buying other products such as funds or insurance to further increase their revenues. As a result, the Portuguese bank would like to identify existing clients that have higher chance to subscribe for a term deposit and focus marketing efforts on such clients.\n",
    "\n",
    "Project Description\n",
    "Your client is a retail banking institution. Term deposits are a major source of income for a bank. A term deposit is a cash investment held at a financial institution. Your money is invested for an agreed rate of interest over a fixed amount of time, or term. The bank has various outreach plans to sell term deposits to their customers such as email marketing, advertisements, telephonic marketing and digital marketing. Telephonic marketing campaigns still remain one of the most effective way to reach out to people. However, they require huge investment as large call centers are hired to actually execute these campaigns. Hence, it is crucial to identify the customers most likely to convert beforehand so that they can be specifically targeted via call.\n",
    "You are provided with the client data such as : age of the client, their job type, their marital status, etc. Along with the client data, you are also provided with the information of the call such as the duration of the call, day and month of the call, etc. Given this information, your task is to predict if the client will subscribe to term deposit.\n",
    "About The Dataset\n",
    "The dataset is related with direct marketing campaigns (phone calls) of a Portuguese banking institution. The classification goal of this dataset is to predict if the client or the customer of polish banking institution will subscribe a term deposit product of the bank or not. \n",
    "\n",
    "\n",
    "\n",
    "You are provided with following 2 files:\n",
    "1.     train.csv : Use this dataset to train the model. This file contains all the client and call details as well as the target variable “subscribed”. You have to train your model using this file.\n",
    "2.     test.csv : Use the trained model to predict whether a new set of clients will subscribe the term deposit.\n",
    " \n",
    "Dataset Attributes\n",
    "Here is the description of all the variables:\n",
    "•\tVariable: Definition\n",
    "•\tID: Unique client ID\n",
    "•\tage: Age of the client\n",
    "•\tjob: Type of job\n",
    "•\tmarital: Marital status of the client\n",
    "•\teducation: Education level\n",
    "•\tdefault: Credit in default.\n",
    "•\thousing: Housing loan\n",
    "•\tloan: Personal loan\n",
    "•\tcontact: Type of communication\n",
    "•\tmonth: Contact month\n",
    "•\tday_of_week: Day of week of contact\n",
    "•\tduration: Contact duration\n",
    "•\tcampaign: number of contacts performed during this campaign to the client\n",
    "•\tpdays: number of days that passed by after the client was last contacted\n",
    "•\tprevious: number of contacts performed before this campaign\n",
    "•\tpoutcome: outcome of the previous marketing campaign\n",
    "Output variable (desired target):\n",
    "•\tSubscribed (target): has the client subscribed a term deposit? (YES/NO)\n",
    "\n",
    "\n",
    "\n",
    "Dataset Link-\n",
    "•\thttps://github.com/FlipRoboTechnologies/ML-Datasets/tree/main/Bank%20Marketing\n",
    "•\thttps://github.com/FlipRoboTechnologies/ML-Datasets/blob/main/Bank%20Marketing/termdeposit_test.csv\n",
    "•\thttps://raw.githubusercontent.com/FlipRoboTechnologies/ML-Datasets/main/Bank%20Marketing/termdeposit_train.csv\n",
    "\n",
    "\n",
    "\n",
    "\n",
    "\n",
    "\n",
    "\n",
    "\n",
    "\n",
    "\n",
    "\n",
    "\n",
    "\n"
   ]
  },
  {
   "cell_type": "code",
   "execution_count": 4,
   "id": "9b028459",
   "metadata": {},
   "outputs": [],
   "source": [
    "#Importing the libraries\n",
    "import numpy as np\n",
    "import pandas as pd\n",
    "import matplotlib.pyplot as plt\n",
    "import seaborn as sns\n",
    "%matplotlib inline\n",
    "import warnings\n",
    "warnings.filterwarnings(\"ignore\")"
   ]
  },
  {
   "cell_type": "code",
   "execution_count": 6,
   "id": "2b1d8690",
   "metadata": {},
   "outputs": [],
   "source": [
    "import pandas"
   ]
  },
  {
   "cell_type": "code",
   "execution_count": null,
   "id": "d4c3b4e8",
   "metadata": {},
   "outputs": [],
   "source": [
    "#Loading the data\n",
    "train = pandas.read_csv(\"train.csv\")\n",
    "test = pandas.read_csv(\"test.csv\")"
   ]
  },
  {
   "cell_type": "markdown",
   "id": "5c7825bc",
   "metadata": {},
   "source": [
    "Checking the columns of each dataset"
   ]
  },
  {
   "cell_type": "code",
   "execution_count": 10,
   "id": "d16fdbba",
   "metadata": {},
   "outputs": [
    {
     "ename": "NameError",
     "evalue": "name 'train' is not defined",
     "output_type": "error",
     "traceback": [
      "\u001b[1;31m---------------------------------------------------------------------------\u001b[0m",
      "\u001b[1;31mNameError\u001b[0m                                 Traceback (most recent call last)",
      "Cell \u001b[1;32mIn[10], line 1\u001b[0m\n\u001b[1;32m----> 1\u001b[0m \u001b[43mtrain\u001b[49m\u001b[38;5;241m.\u001b[39mcolumn\n",
      "\u001b[1;31mNameError\u001b[0m: name 'train' is not defined"
     ]
    }
   ],
   "source": [
    "train.column"
   ]
  },
  {
   "cell_type": "code",
   "execution_count": null,
   "id": "dc1b030e",
   "metadata": {},
   "outputs": [],
   "source": [
    "test.column"
   ]
  },
  {
   "cell_type": "markdown",
   "id": "688a08a0",
   "metadata": {},
   "source": [
    "Hence 'Suscribe'is the target variable"
   ]
  },
  {
   "cell_type": "markdown",
   "id": "0c047644",
   "metadata": {},
   "source": [
    "checking the data type of variable"
   ]
  },
  {
   "cell_type": "code",
   "execution_count": null,
   "id": "30366648",
   "metadata": {},
   "outputs": [],
   "source": [
    "train.info"
   ]
  },
  {
   "cell_type": "code",
   "execution_count": null,
   "id": "7c3e53f7",
   "metadata": {},
   "outputs": [],
   "source": [
    "test.info"
   ]
  },
  {
   "cell_type": "code",
   "execution_count": null,
   "id": "455a8b5d",
   "metadata": {},
   "outputs": [],
   "source": [
    "train.shape"
   ]
  },
  {
   "cell_type": "code",
   "execution_count": null,
   "id": "c141d136",
   "metadata": {},
   "outputs": [],
   "source": [
    "test.shape"
   ]
  },
  {
   "cell_type": "markdown",
   "id": "9bdc06b2",
   "metadata": {},
   "source": [
    "\n",
    "Hence, we can see that we have 17 similar features in the both the dataset and 'Subscribed' is the variable that is to be predicted"
   ]
  },
  {
   "cell_type": "markdown",
   "id": "37c7fc7e",
   "metadata": {},
   "source": [
    "# Data Exploration"
   ]
  },
  {
   "cell_type": "code",
   "execution_count": null,
   "id": "37231ba7",
   "metadata": {},
   "outputs": [],
   "source": [
    "#printing the first 5 rows of the train dataset\n",
    "train.head()"
   ]
  },
  {
   "cell_type": "code",
   "execution_count": null,
   "id": "e2c2d902",
   "metadata": {},
   "outputs": [],
   "source": [
    "#printing the first 5 rows of the test dataset\n",
    "test.head()"
   ]
  },
  {
   "cell_type": "code",
   "execution_count": 11,
   "id": "60b46831",
   "metadata": {},
   "outputs": [],
   "source": [
    "#Checking the missing values in the train dataset\n",
    "train.isnull().sum()"
   ]
  },
  {
   "cell_type": "code",
   "execution_count": null,
   "id": "b77fd107",
   "metadata": {},
   "outputs": [],
   "source": [
    "#Checking the missing values in the test dataset\n",
    "test.isnull().sum()"
   ]
  },
  {
   "cell_type": "markdown",
   "id": "135458df",
   "metadata": {},
   "source": [
    "Univariate Analysis"
   ]
  },
  {
   "cell_type": "markdown",
   "id": "17e77f62",
   "metadata": {},
   "source": [
    "Analysis of 'Subscribe' variable"
   ]
  },
  {
   "cell_type": "code",
   "execution_count": null,
   "id": "277f7e56",
   "metadata": {},
   "outputs": [],
   "source": [
    "#Frequency of 'suscribed'\n",
    "train['Suscribed'].value_counts()"
   ]
  },
  {
   "cell_type": "code",
   "execution_count": null,
   "id": "75314e2a",
   "metadata": {},
   "outputs": [],
   "source": [
    "# Plotting the 'suscribed'frequency\n",
    "sns.countplot(data=train,x='subscribed')"
   ]
  },
  {
   "cell_type": "code",
   "execution_count": null,
   "id": "8ae08918",
   "metadata": {},
   "outputs": [],
   "source": [
    "#Normalizing the frequency table of 'Subsribed'variable\n",
    "train['subscribed'].values_counts(normalize=True)"
   ]
  },
  {
   "cell_type": "markdown",
   "id": "4fab0c2c",
   "metadata": {},
   "source": [
    "From the above analysis we can see that only 3,715 people out of 31,647 have subscribed which is roughly 12%."
   ]
  },
  {
   "cell_type": "markdown",
   "id": "058e2618",
   "metadata": {},
   "source": [
    "Analysing the 'job'Variable"
   ]
  },
  {
   "cell_type": "code",
   "execution_count": null,
   "id": "4dbe5158",
   "metadata": {},
   "outputs": [],
   "source": [
    "#Frequency table\n",
    "train['job'].value_count()"
   ]
  },
  {
   "cell_type": "code",
   "execution_count": null,
   "id": "7b762af7",
   "metadata": {},
   "outputs": [],
   "source": [
    "#Plotting the job Frequency table\n",
    "sns.set_context('paper')\n",
    "train['job'].value_counts().plot(kind='bar',figsize=(10,6));"
   ]
  },
  {
   "cell_type": "markdown",
   "id": "4889f288",
   "metadata": {},
   "source": [
    "Analysis of 'martial'status"
   ]
  },
  {
   "cell_type": "code",
   "execution_count": null,
   "id": "ffc1fc52",
   "metadata": {},
   "outputs": [],
   "source": [
    "train['martial'].value_counts()"
   ]
  },
  {
   "cell_type": "code",
   "execution_count": null,
   "id": "fdd1fcc9",
   "metadata": {},
   "outputs": [],
   "source": [
    "sns.countplot(data=train,x='martial');"
   ]
  },
  {
   "cell_type": "code",
   "execution_count": null,
   "id": "689e2675",
   "metadata": {},
   "outputs": [],
   "source": [
    "sns.countplot(data=train,x='martial',hue='subscribed');"
   ]
  },
  {
   "cell_type": "markdown",
   "id": "125a6af0",
   "metadata": {},
   "source": [
    "Analyzing the 'age'variable"
   ]
  },
  {
   "cell_type": "code",
   "execution_count": null,
   "id": "20489241",
   "metadata": {},
   "outputs": [],
   "source": [
    "sns.distplot(train['age']);"
   ]
  },
  {
   "cell_type": "markdown",
   "id": "b2273d6c",
   "metadata": {},
   "source": [
    "Bivarite Analysis"
   ]
  },
  {
   "cell_type": "code",
   "execution_count": null,
   "id": "5e7ba93b",
   "metadata": {},
   "outputs": [],
   "source": [
    "#job vs subscribed\n",
    "print(pd.crosstab(train['job'],train['subscribed']))"
   ]
  },
  {
   "cell_type": "code",
   "execution_count": null,
   "id": "d2baa3fd",
   "metadata": {},
   "outputs": [],
   "source": [
    "job =pd.crosstab(train['job'],train['subscribed'])\n",
    "job_norm = job.div(job.sum)(1).astype(float),axis=0"
   ]
  },
  {
   "cell_type": "code",
   "execution_count": null,
   "id": "6f7f436e",
   "metadata": {},
   "outputs": [],
   "source": [
    "job_norm.plot.bar(stacked=True,figsize=(8,6));"
   ]
  },
  {
   "cell_type": "code",
   "execution_count": null,
   "id": "d12102af",
   "metadata": {},
   "outputs": [],
   "source": [
    "#Martial status vs subscribed\n",
    "pd.crosstab(train['martial'],train['subscribed'])"
   ]
  },
  {
   "cell_type": "code",
   "execution_count": null,
   "id": "875d71f3",
   "metadata": {},
   "outputs": [],
   "source": [
    "marital = pd.crosstab(train['martaial'],train['subscribed'])\n",
    "marital_norm =martail.div(martail.sum(1).astype(float),axis=0)\n",
    "marital_norm"
   ]
  },
  {
   "cell_type": "code",
   "execution_count": null,
   "id": "776feb28",
   "metadata": {},
   "outputs": [],
   "source": [
    "marital_norm.plot.bar(stacked=True,figsize=(10,6));"
   ]
  },
  {
   "cell_type": "code",
   "execution_count": null,
   "id": "7bc0c2dd",
   "metadata": {},
   "outputs": [],
   "source": [
    "#default vs subscription\n",
    "pd.crosstab(train['default']),tarin['subscribed'])"
   ]
  },
  {
   "cell_type": "code",
   "execution_count": null,
   "id": "ad0e7ce2",
   "metadata": {},
   "outputs": [],
   "source": [
    "dflt = pd.crosstab(train['default'],train['subscribed'])\n",
    "dflt_norm = dflt.div(dflt.sum(1).astype(float), axis=0\n",
    "dflt_norm                    "
   ]
  },
  {
   "cell_type": "code",
   "execution_count": null,
   "id": "c48c7c8b",
   "metadata": {},
   "outputs": [],
   "source": [
    "dflt_norm.plot.bar(satacked=True,figsize=(6,6))\n"
   ]
  },
  {
   "cell_type": "code",
   "execution_count": null,
   "id": "3da62f0c",
   "metadata": {},
   "outputs": [],
   "source": [
    "#converting the target variable into 0s and 1s\n",
    "train['subscribed'].replace('no',0,inplace=True)\n",
    "train['subscribed'].replace('yes',1,inplace=True)\n"
   ]
  },
  {
   "cell_type": "code",
   "execution_count": null,
   "id": "5d2957d7",
   "metadata": {},
   "outputs": [],
   "source": [
    "train['subscribed']"
   ]
  },
  {
   "cell_type": "code",
   "execution_count": null,
   "id": "23bc1e37",
   "metadata": {},
   "outputs": [],
   "source": [
    "#Correlation matrix\n",
    "tc = train.corr()\n",
    "tc"
   ]
  },
  {
   "cell_type": "code",
   "execution_count": null,
   "id": "44e30e6f",
   "metadata": {},
   "outputs": [],
   "source": [
    "fig,ax= plt.subplot()\n",
    "fig.set_size_inches(20,10)\n",
    "sns.heatmap(tc, annot=True, cmap='YlGnBu')"
   ]
  },
  {
   "cell_type": "markdown",
   "id": "6d588454",
   "metadata": {},
   "source": [
    "Model Building"
   ]
  },
  {
   "cell_type": "code",
   "execution_count": null,
   "id": "f8b466c2",
   "metadata": {},
   "outputs": [],
   "source": [
    "target= tarin['subscribed']\n",
    "train = train.drop('subscribed',axis =1)\n"
   ]
  },
  {
   "cell_type": "code",
   "execution_count": null,
   "id": "50d8e45e",
   "metadata": {},
   "outputs": [],
   "source": [
    "#generating dummy values of the train dataset\n",
    "train = pd.get_dummies(train)\n",
    "train.head()"
   ]
  },
  {
   "cell_type": "code",
   "execution_count": null,
   "id": "2e744fb7",
   "metadata": {},
   "outputs": [],
   "source": [
    "from sklearn.model_selection import tarin_test_split"
   ]
  },
  {
   "cell_type": "code",
   "execution_count": null,
   "id": "75754a10",
   "metadata": {},
   "outputs": [],
   "source": [
    "X_train, X_val,y_train, y_val =tarin_test_split(train,target,test_size=0.2, random_state=12)"
   ]
  }
 ],
 "metadata": {
  "kernelspec": {
   "display_name": "Python 3 (ipykernel)",
   "language": "python",
   "name": "python3"
  },
  "language_info": {
   "codemirror_mode": {
    "name": "ipython",
    "version": 3
   },
   "file_extension": ".py",
   "mimetype": "text/x-python",
   "name": "python",
   "nbconvert_exporter": "python",
   "pygments_lexer": "ipython3",
   "version": "3.10.9"
  }
 },
 "nbformat": 4,
 "nbformat_minor": 5
}
